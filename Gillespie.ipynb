{
  "nbformat": 4,
  "nbformat_minor": 0,
  "metadata": {
    "colab": {
      "provenance": [],
      "authorship_tag": "ABX9TyNM9EqxLLNrzTrFDtqGazE2",
      "include_colab_link": true
    },
    "kernelspec": {
      "name": "python3",
      "display_name": "Python 3"
    },
    "language_info": {
      "name": "python"
    }
  },
  "cells": [
    {
      "cell_type": "markdown",
      "metadata": {
        "id": "view-in-github",
        "colab_type": "text"
      },
      "source": [
        "<a href=\"https://colab.research.google.com/github/fmarotta/PBoC_2023/blob/main/Gillespie.ipynb\" target=\"_parent\"><img src=\"https://colab.research.google.com/assets/colab-badge.svg\" alt=\"Open In Colab\"/></a>"
      ]
    },
    {
      "cell_type": "markdown",
      "source": [
        "# The Gillespie Algorithm\n",
        "\n",
        "We are going to simulate the binding of  ligands to receptors.\n",
        "\n"
      ],
      "metadata": {
        "id": "Ygeei5YrEfH2"
      }
    },
    {
      "cell_type": "code",
      "execution_count": 1,
      "metadata": {
        "id": "YmXjRynB-UPk"
      },
      "outputs": [],
      "source": [
        "import numpy as np\n",
        "import matplotlib.pyplot as plt\n",
        "import seaborn as sns\n",
        "\n",
        "sns.set()"
      ]
    },
    {
      "cell_type": "code",
      "source": [
        "k_off = 1 # s^-1\n",
        "k_on = 1 # s^-1 M^-1\n",
        "ligand_concentration = 1 # M\n",
        "\n",
        "n_steps = 500\n",
        "waiting_times = np.zeros(n_steps + 1)\n",
        "\n",
        "receptor_state = np.zeros(n_steps + 1)\n",
        "\n",
        "# initial condition\n",
        "receptor_state[0] = False # unbound"
      ],
      "metadata": {
        "id": "uvrzXMuMEuYZ"
      },
      "execution_count": 61,
      "outputs": []
    },
    {
      "cell_type": "code",
      "source": [
        "for i in range(n_steps):\n",
        "  p = np.random.rand()\n",
        "  if receptor_state[i] == False:\n",
        "    t = -np.log(p) / (k_on * ligand_concentration)\n",
        "  else:\n",
        "    t = -np.log(p) / k_off\n",
        "  waiting_times[i] = t\n",
        "  receptor_state[i+1] = not receptor_state[i]"
      ],
      "metadata": {
        "id": "FOIVSw3iFgyb"
      },
      "execution_count": 62,
      "outputs": []
    },
    {
      "cell_type": "code",
      "source": [
        "fig, ax = plt.subplots(1)\n",
        "ax.step(np.cumsum(waiting_times), receptor_state)\n"
      ],
      "metadata": {
        "colab": {
          "base_uri": "https://localhost:8080/",
          "height": 452
        },
        "id": "6lNMm6pYIKgm",
        "outputId": "7c6490f2-1fcc-469c-9cc0-51f58837ffe8"
      },
      "execution_count": 63,
      "outputs": [
        {
          "output_type": "execute_result",
          "data": {
            "text/plain": [
              "[<matplotlib.lines.Line2D at 0x7de497164c70>]"
            ]
          },
          "metadata": {},
          "execution_count": 63
        },
        {
          "output_type": "display_data",
          "data": {
            "text/plain": [
              "<Figure size 640x480 with 1 Axes>"
            ],
            "image/png": "[encoded data removed]"
          },
          "metadata": {}
        }
      ]
    },
    {
      "cell_type": "code",
      "source": [
        "# What fraction of time is spent in the \"bound\" state?\n",
        "time_bound = np.sum(waiting_times * receptor_state)\n",
        "time_total = np.sum(waiting_times)\n",
        "Kd = time_bound / (time_total - time_bound)\n",
        "Kd_theory = k_off / k_on\n",
        "print(Kd)\n",
        "print(Kd_theory)"
      ],
      "metadata": {
        "colab": {
          "base_uri": "https://localhost:8080/"
        },
        "id": "QzcnUt6pJB2d",
        "outputId": "b16b0b91-6ba7-4f24-b8c4-85d5ea52c086"
      },
      "execution_count": 67,
      "outputs": [
        {
          "output_type": "stream",
          "name": "stdout",
          "text": [
            "1.132688847740115\n",
            "1.0\n"
          ]
        }
      ]
    },
    {
      "cell_type": "code",
      "source": [
        "# How does it change with ligand concentration?\n",
        "def gillespie(ligand_concentration):\n",
        "  waiting_times = np.zeros(n_steps + 1)\n",
        "  receptor_state = np.zeros(n_steps + 1)\n",
        "  # initial condition\n",
        "  receptor_state[0] = False # unbound\n",
        "  for i in range(n_steps):\n",
        "    p = np.random.rand()\n",
        "    if receptor_state[i] == False:\n",
        "      t = -np.log(p) / (k_on * ligand_concentration)\n",
        "    else:\n",
        "      t = -np.log(p) / k_off\n",
        "    waiting_times[i] = t\n",
        "    receptor_state[i+1] = not receptor_state[i]\n",
        "  # compute p_bound\n",
        "  time_bound = np.sum(waiting_times * receptor_state)\n",
        "  time_total = np.sum(waiting_times)\n",
        "  p_bound = time_bound / time_total\n",
        "  return p_bound\n"
      ],
      "metadata": {
        "id": "G5NUYf7zK8l6"
      },
      "execution_count": 65,
      "outputs": []
    },
    {
      "cell_type": "code",
      "source": [
        "ligand_concentrations = np.linspace(0.01, 100, 1000)\n",
        "p_bounds = [gillespie(i) for i in ligand_concentrations]\n",
        "\n",
        "fig, ax = plt.subplots(1)\n",
        "ax.plot(ligand_concentrations, p_bounds)"
      ],
      "metadata": {
        "colab": {
          "base_uri": "https://localhost:8080/",
          "height": 452
        },
        "id": "50pAv07tQe-s",
        "outputId": "6348c758-0ac7-4cf5-c4fa-621b04e84e54"
      },
      "execution_count": 66,
      "outputs": [
        {
          "output_type": "execute_result",
          "data": {
            "text/plain": [
              "[<matplotlib.lines.Line2D at 0x7de49713e830>]"
            ]
          },
          "metadata": {},
          "execution_count": 66
        },
        {
          "output_type": "display_data",
          "data": {
            "text/plain": [
              "<Figure size 640x480 with 1 Axes>"
            ],
            "image/png": "[encoded data removed]"
          },
          "metadata": {}
        }
      ]
    },
    {
      "cell_type": "code",
      "source": [],
      "metadata": {
        "id": "2ae2Bs2QQ6Q8"
      },
      "execution_count": null,
      "outputs": []
    }
  ]
}